{
  "nbformat": 4,
  "nbformat_minor": 0,
  "metadata": {
    "colab": {
      "name": "HyperparameterOptimization.ipynb",
      "provenance": [],
      "authorship_tag": "ABX9TyPh/tb2toEIL2n5CpeZdps4"
    },
    "kernelspec": {
      "name": "python3",
      "display_name": "Python 3"
    }
  },
  "cells": [
    {
      "cell_type": "code",
      "metadata": {
        "id": "WsYrX-m0teRV",
        "colab_type": "code",
        "colab": {
          "base_uri": "https://localhost:8080/",
          "height": 124
        },
        "outputId": "95ea4ee3-2dc4-41e4-c2c8-24a6b395e840"
      },
      "source": [
        "from google.colab import drive\n",
        "drive.mount('/gdrive')"
      ],
      "execution_count": 1,
      "outputs": [
        {
          "output_type": "stream",
          "text": [
            "Go to this URL in a browser: https://accounts.google.com/o/oauth2/auth?client_id=947318989803-6bn6qk8qdgf4n4g3pfee6491hc0brc4i.apps.googleusercontent.com&redirect_uri=urn%3aietf%3awg%3aoauth%3a2.0%3aoob&scope=email%20https%3a%2f%2fwww.googleapis.com%2fauth%2fdocs.test%20https%3a%2f%2fwww.googleapis.com%2fauth%2fdrive%20https%3a%2f%2fwww.googleapis.com%2fauth%2fdrive.photos.readonly%20https%3a%2f%2fwww.googleapis.com%2fauth%2fpeopleapi.readonly&response_type=code\n",
            "\n",
            "Enter your authorization code:\n",
            "··········\n",
            "Mounted at /gdrive\n"
          ],
          "name": "stdout"
        }
      ]
    },
    {
      "cell_type": "code",
      "metadata": {
        "id": "Pv4rimKOujts",
        "colab_type": "code",
        "colab": {
          "base_uri": "https://localhost:8080/",
          "height": 35
        },
        "outputId": "c1c30959-07d3-4d2e-9329-7f981aebcb3b"
      },
      "source": [
        "!ls '/gdrive/'"
      ],
      "execution_count": 2,
      "outputs": [
        {
          "output_type": "stream",
          "text": [
            "'My Drive'  'Shared drives'\n"
          ],
          "name": "stdout"
        }
      ]
    },
    {
      "cell_type": "code",
      "metadata": {
        "id": "8FgETNmius4Q",
        "colab_type": "code",
        "colab": {
          "base_uri": "https://localhost:8080/",
          "height": 35
        },
        "outputId": "8386f35c-7b7e-4875-a4f5-4131955980a6"
      },
      "source": [
        "!ls '/gdrive/My Drive/Machine Learning/HyperparameterOpt'"
      ],
      "execution_count": 3,
      "outputs": [
        {
          "output_type": "stream",
          "text": [
            "test.csv  train.csv\n"
          ],
          "name": "stdout"
        }
      ]
    },
    {
      "cell_type": "code",
      "metadata": {
        "id": "eqpLaeLjvFMP",
        "colab_type": "code",
        "colab": {}
      },
      "source": [
        "import pandas as pd\n",
        "import numpy as np\n",
        "\n",
        "from sklearn import ensemble\n",
        "from sklearn import metrics\n",
        "from sklearn import model_selection\n"
      ],
      "execution_count": 5,
      "outputs": []
    },
    {
      "cell_type": "code",
      "metadata": {
        "id": "ldw0VhJFvVpG",
        "colab_type": "code",
        "colab": {}
      },
      "source": [
        "df = pd.read_csv(\"/gdrive/My Drive/Machine Learning/HyperparameterOpt/train.csv\")\n",
        "X = df.drop(\"price_range\", axis=1).values\n",
        "y = df.price_range.values\n"
      ],
      "execution_count": 6,
      "outputs": []
    },
    {
      "cell_type": "markdown",
      "metadata": {
        "id": "tAhnj465xZ4b",
        "colab_type": "text"
      },
      "source": [
        "# **GridSearch**"
      ]
    },
    {
      "cell_type": "code",
      "metadata": {
        "id": "shlK3kI1vrt_",
        "colab_type": "code",
        "colab": {
          "base_uri": "https://localhost:8080/",
          "height": 1000
        },
        "outputId": "1f3b2f6f-a466-4210-f70c-b001cc4978e7"
      },
      "source": [
        "classifier = ensemble.RandomForestClassifier(n_jobs=-1)\n",
        "param_grid = {\n",
        "    \"n_estimators\": [100, 200, 300, 400],\n",
        "    \"max_depth\": [1, 3, 5, 7],\n",
        "    \"criterion\": [\"gini\", \"entropy\"],\n",
        "    }\n",
        "\n",
        "model = model_selection.GridSearchCV(\n",
        "    estimator=classifier,\n",
        "    param_grid=param_grid,\n",
        "    scoring=\"accuracy\",\n",
        "    verbose=10,\n",
        "    cv=5,\n",
        ")\n",
        "\n",
        "model.fit(X, y)"
      ],
      "execution_count": 7,
      "outputs": [
        {
          "output_type": "stream",
          "text": [
            "Fitting 5 folds for each of 32 candidates, totalling 160 fits\n",
            "[CV] criterion=gini, max_depth=1, n_estimators=100 ...................\n"
          ],
          "name": "stdout"
        },
        {
          "output_type": "stream",
          "text": [
            "[Parallel(n_jobs=1)]: Using backend SequentialBackend with 1 concurrent workers.\n"
          ],
          "name": "stderr"
        },
        {
          "output_type": "stream",
          "text": [
            "[CV]  criterion=gini, max_depth=1, n_estimators=100, score=0.603, total=   1.5s\n",
            "[CV] criterion=gini, max_depth=1, n_estimators=100 ...................\n"
          ],
          "name": "stdout"
        },
        {
          "output_type": "stream",
          "text": [
            "[Parallel(n_jobs=1)]: Done   1 out of   1 | elapsed:    1.5s remaining:    0.0s\n"
          ],
          "name": "stderr"
        },
        {
          "output_type": "stream",
          "text": [
            "[CV]  criterion=gini, max_depth=1, n_estimators=100, score=0.568, total=   0.3s\n",
            "[CV] criterion=gini, max_depth=1, n_estimators=100 ...................\n"
          ],
          "name": "stdout"
        },
        {
          "output_type": "stream",
          "text": [
            "[Parallel(n_jobs=1)]: Done   2 out of   2 | elapsed:    1.8s remaining:    0.0s\n"
          ],
          "name": "stderr"
        },
        {
          "output_type": "stream",
          "text": [
            "[CV]  criterion=gini, max_depth=1, n_estimators=100, score=0.645, total=   0.3s\n",
            "[CV] criterion=gini, max_depth=1, n_estimators=100 ...................\n"
          ],
          "name": "stdout"
        },
        {
          "output_type": "stream",
          "text": [
            "[Parallel(n_jobs=1)]: Done   3 out of   3 | elapsed:    2.2s remaining:    0.0s\n"
          ],
          "name": "stderr"
        },
        {
          "output_type": "stream",
          "text": [
            "[CV]  criterion=gini, max_depth=1, n_estimators=100, score=0.625, total=   0.3s\n",
            "[CV] criterion=gini, max_depth=1, n_estimators=100 ...................\n"
          ],
          "name": "stdout"
        },
        {
          "output_type": "stream",
          "text": [
            "[Parallel(n_jobs=1)]: Done   4 out of   4 | elapsed:    2.5s remaining:    0.0s\n"
          ],
          "name": "stderr"
        },
        {
          "output_type": "stream",
          "text": [
            "[CV]  criterion=gini, max_depth=1, n_estimators=100, score=0.583, total=   0.3s\n",
            "[CV] criterion=gini, max_depth=1, n_estimators=200 ...................\n"
          ],
          "name": "stdout"
        },
        {
          "output_type": "stream",
          "text": [
            "[Parallel(n_jobs=1)]: Done   5 out of   5 | elapsed:    2.8s remaining:    0.0s\n"
          ],
          "name": "stderr"
        },
        {
          "output_type": "stream",
          "text": [
            "[CV]  criterion=gini, max_depth=1, n_estimators=200, score=0.600, total=   0.5s\n",
            "[CV] criterion=gini, max_depth=1, n_estimators=200 ...................\n"
          ],
          "name": "stdout"
        },
        {
          "output_type": "stream",
          "text": [
            "[Parallel(n_jobs=1)]: Done   6 out of   6 | elapsed:    3.4s remaining:    0.0s\n"
          ],
          "name": "stderr"
        },
        {
          "output_type": "stream",
          "text": [
            "[CV]  criterion=gini, max_depth=1, n_estimators=200, score=0.588, total=   0.5s\n",
            "[CV] criterion=gini, max_depth=1, n_estimators=200 ...................\n"
          ],
          "name": "stdout"
        },
        {
          "output_type": "stream",
          "text": [
            "[Parallel(n_jobs=1)]: Done   7 out of   7 | elapsed:    3.9s remaining:    0.0s\n"
          ],
          "name": "stderr"
        },
        {
          "output_type": "stream",
          "text": [
            "[CV]  criterion=gini, max_depth=1, n_estimators=200, score=0.613, total=   0.5s\n",
            "[CV] criterion=gini, max_depth=1, n_estimators=200 ...................\n"
          ],
          "name": "stdout"
        },
        {
          "output_type": "stream",
          "text": [
            "[Parallel(n_jobs=1)]: Done   8 out of   8 | elapsed:    4.4s remaining:    0.0s\n"
          ],
          "name": "stderr"
        },
        {
          "output_type": "stream",
          "text": [
            "[CV]  criterion=gini, max_depth=1, n_estimators=200, score=0.610, total=   0.5s\n",
            "[CV] criterion=gini, max_depth=1, n_estimators=200 ...................\n"
          ],
          "name": "stdout"
        },
        {
          "output_type": "stream",
          "text": [
            "[Parallel(n_jobs=1)]: Done   9 out of   9 | elapsed:    4.9s remaining:    0.0s\n"
          ],
          "name": "stderr"
        },
        {
          "output_type": "stream",
          "text": [
            "[CV]  criterion=gini, max_depth=1, n_estimators=200, score=0.570, total=   0.5s\n",
            "[CV] criterion=gini, max_depth=1, n_estimators=300 ...................\n",
            "[CV]  criterion=gini, max_depth=1, n_estimators=300, score=0.613, total=   0.7s\n",
            "[CV] criterion=gini, max_depth=1, n_estimators=300 ...................\n",
            "[CV]  criterion=gini, max_depth=1, n_estimators=300, score=0.595, total=   0.8s\n",
            "[CV] criterion=gini, max_depth=1, n_estimators=300 ...................\n",
            "[CV]  criterion=gini, max_depth=1, n_estimators=300, score=0.623, total=   0.7s\n",
            "[CV] criterion=gini, max_depth=1, n_estimators=300 ...................\n",
            "[CV]  criterion=gini, max_depth=1, n_estimators=300, score=0.623, total=   0.7s\n",
            "[CV] criterion=gini, max_depth=1, n_estimators=300 ...................\n",
            "[CV]  criterion=gini, max_depth=1, n_estimators=300, score=0.573, total=   0.7s\n",
            "[CV] criterion=gini, max_depth=1, n_estimators=400 ...................\n",
            "[CV]  criterion=gini, max_depth=1, n_estimators=400, score=0.627, total=   1.0s\n",
            "[CV] criterion=gini, max_depth=1, n_estimators=400 ...................\n",
            "[CV]  criterion=gini, max_depth=1, n_estimators=400, score=0.593, total=   1.0s\n",
            "[CV] criterion=gini, max_depth=1, n_estimators=400 ...................\n",
            "[CV]  criterion=gini, max_depth=1, n_estimators=400, score=0.635, total=   1.0s\n",
            "[CV] criterion=gini, max_depth=1, n_estimators=400 ...................\n",
            "[CV]  criterion=gini, max_depth=1, n_estimators=400, score=0.618, total=   1.0s\n",
            "[CV] criterion=gini, max_depth=1, n_estimators=400 ...................\n",
            "[CV]  criterion=gini, max_depth=1, n_estimators=400, score=0.573, total=   1.0s\n",
            "[CV] criterion=gini, max_depth=3, n_estimators=100 ...................\n",
            "[CV]  criterion=gini, max_depth=3, n_estimators=100, score=0.795, total=   0.4s\n",
            "[CV] criterion=gini, max_depth=3, n_estimators=100 ...................\n",
            "[CV]  criterion=gini, max_depth=3, n_estimators=100, score=0.807, total=   0.4s\n",
            "[CV] criterion=gini, max_depth=3, n_estimators=100 ...................\n",
            "[CV]  criterion=gini, max_depth=3, n_estimators=100, score=0.838, total=   0.4s\n",
            "[CV] criterion=gini, max_depth=3, n_estimators=100 ...................\n",
            "[CV]  criterion=gini, max_depth=3, n_estimators=100, score=0.782, total=   0.4s\n",
            "[CV] criterion=gini, max_depth=3, n_estimators=100 ...................\n",
            "[CV]  criterion=gini, max_depth=3, n_estimators=100, score=0.775, total=   0.4s\n",
            "[CV] criterion=gini, max_depth=3, n_estimators=200 ...................\n",
            "[CV]  criterion=gini, max_depth=3, n_estimators=200, score=0.785, total=   0.6s\n",
            "[CV] criterion=gini, max_depth=3, n_estimators=200 ...................\n",
            "[CV]  criterion=gini, max_depth=3, n_estimators=200, score=0.787, total=   0.6s\n",
            "[CV] criterion=gini, max_depth=3, n_estimators=200 ...................\n",
            "[CV]  criterion=gini, max_depth=3, n_estimators=200, score=0.838, total=   0.6s\n",
            "[CV] criterion=gini, max_depth=3, n_estimators=200 ...................\n",
            "[CV]  criterion=gini, max_depth=3, n_estimators=200, score=0.820, total=   0.6s\n",
            "[CV] criterion=gini, max_depth=3, n_estimators=200 ...................\n",
            "[CV]  criterion=gini, max_depth=3, n_estimators=200, score=0.810, total=   0.6s\n",
            "[CV] criterion=gini, max_depth=3, n_estimators=300 ...................\n",
            "[CV]  criterion=gini, max_depth=3, n_estimators=300, score=0.797, total=   0.8s\n",
            "[CV] criterion=gini, max_depth=3, n_estimators=300 ...................\n",
            "[CV]  criterion=gini, max_depth=3, n_estimators=300, score=0.770, total=   0.8s\n",
            "[CV] criterion=gini, max_depth=3, n_estimators=300 ...................\n",
            "[CV]  criterion=gini, max_depth=3, n_estimators=300, score=0.828, total=   0.9s\n",
            "[CV] criterion=gini, max_depth=3, n_estimators=300 ...................\n",
            "[CV]  criterion=gini, max_depth=3, n_estimators=300, score=0.802, total=   0.8s\n",
            "[CV] criterion=gini, max_depth=3, n_estimators=300 ...................\n",
            "[CV]  criterion=gini, max_depth=3, n_estimators=300, score=0.795, total=   0.8s\n",
            "[CV] criterion=gini, max_depth=3, n_estimators=400 ...................\n",
            "[CV]  criterion=gini, max_depth=3, n_estimators=400, score=0.777, total=   1.1s\n",
            "[CV] criterion=gini, max_depth=3, n_estimators=400 ...................\n",
            "[CV]  criterion=gini, max_depth=3, n_estimators=400, score=0.790, total=   1.1s\n",
            "[CV] criterion=gini, max_depth=3, n_estimators=400 ...................\n",
            "[CV]  criterion=gini, max_depth=3, n_estimators=400, score=0.825, total=   1.1s\n",
            "[CV] criterion=gini, max_depth=3, n_estimators=400 ...................\n",
            "[CV]  criterion=gini, max_depth=3, n_estimators=400, score=0.805, total=   1.1s\n",
            "[CV] criterion=gini, max_depth=3, n_estimators=400 ...................\n",
            "[CV]  criterion=gini, max_depth=3, n_estimators=400, score=0.797, total=   1.1s\n",
            "[CV] criterion=gini, max_depth=5, n_estimators=100 ...................\n",
            "[CV]  criterion=gini, max_depth=5, n_estimators=100, score=0.823, total=   0.4s\n",
            "[CV] criterion=gini, max_depth=5, n_estimators=100 ...................\n",
            "[CV]  criterion=gini, max_depth=5, n_estimators=100, score=0.840, total=   0.4s\n",
            "[CV] criterion=gini, max_depth=5, n_estimators=100 ...................\n",
            "[CV]  criterion=gini, max_depth=5, n_estimators=100, score=0.845, total=   0.4s\n",
            "[CV] criterion=gini, max_depth=5, n_estimators=100 ...................\n",
            "[CV]  criterion=gini, max_depth=5, n_estimators=100, score=0.840, total=   0.4s\n",
            "[CV] criterion=gini, max_depth=5, n_estimators=100 ...................\n",
            "[CV]  criterion=gini, max_depth=5, n_estimators=100, score=0.810, total=   0.4s\n",
            "[CV] criterion=gini, max_depth=5, n_estimators=200 ...................\n",
            "[CV]  criterion=gini, max_depth=5, n_estimators=200, score=0.807, total=   0.6s\n",
            "[CV] criterion=gini, max_depth=5, n_estimators=200 ...................\n",
            "[CV]  criterion=gini, max_depth=5, n_estimators=200, score=0.850, total=   0.6s\n",
            "[CV] criterion=gini, max_depth=5, n_estimators=200 ...................\n",
            "[CV]  criterion=gini, max_depth=5, n_estimators=200, score=0.848, total=   0.7s\n",
            "[CV] criterion=gini, max_depth=5, n_estimators=200 ...................\n",
            "[CV]  criterion=gini, max_depth=5, n_estimators=200, score=0.845, total=   0.6s\n",
            "[CV] criterion=gini, max_depth=5, n_estimators=200 ...................\n",
            "[CV]  criterion=gini, max_depth=5, n_estimators=200, score=0.820, total=   0.7s\n",
            "[CV] criterion=gini, max_depth=5, n_estimators=300 ...................\n",
            "[CV]  criterion=gini, max_depth=5, n_estimators=300, score=0.828, total=   1.0s\n",
            "[CV] criterion=gini, max_depth=5, n_estimators=300 ...................\n",
            "[CV]  criterion=gini, max_depth=5, n_estimators=300, score=0.863, total=   1.0s\n",
            "[CV] criterion=gini, max_depth=5, n_estimators=300 ...................\n",
            "[CV]  criterion=gini, max_depth=5, n_estimators=300, score=0.868, total=   0.9s\n",
            "[CV] criterion=gini, max_depth=5, n_estimators=300 ...................\n",
            "[CV]  criterion=gini, max_depth=5, n_estimators=300, score=0.845, total=   1.0s\n",
            "[CV] criterion=gini, max_depth=5, n_estimators=300 ...................\n",
            "[CV]  criterion=gini, max_depth=5, n_estimators=300, score=0.820, total=   0.9s\n",
            "[CV] criterion=gini, max_depth=5, n_estimators=400 ...................\n",
            "[CV]  criterion=gini, max_depth=5, n_estimators=400, score=0.840, total=   1.2s\n",
            "[CV] criterion=gini, max_depth=5, n_estimators=400 ...................\n",
            "[CV]  criterion=gini, max_depth=5, n_estimators=400, score=0.858, total=   1.2s\n",
            "[CV] criterion=gini, max_depth=5, n_estimators=400 ...................\n",
            "[CV]  criterion=gini, max_depth=5, n_estimators=400, score=0.868, total=   1.2s\n",
            "[CV] criterion=gini, max_depth=5, n_estimators=400 ...................\n",
            "[CV]  criterion=gini, max_depth=5, n_estimators=400, score=0.853, total=   1.2s\n",
            "[CV] criterion=gini, max_depth=5, n_estimators=400 ...................\n",
            "[CV]  criterion=gini, max_depth=5, n_estimators=400, score=0.825, total=   1.2s\n",
            "[CV] criterion=gini, max_depth=7, n_estimators=100 ...................\n",
            "[CV]  criterion=gini, max_depth=7, n_estimators=100, score=0.860, total=   0.4s\n",
            "[CV] criterion=gini, max_depth=7, n_estimators=100 ...................\n",
            "[CV]  criterion=gini, max_depth=7, n_estimators=100, score=0.860, total=   0.4s\n",
            "[CV] criterion=gini, max_depth=7, n_estimators=100 ...................\n",
            "[CV]  criterion=gini, max_depth=7, n_estimators=100, score=0.882, total=   0.4s\n",
            "[CV] criterion=gini, max_depth=7, n_estimators=100 ...................\n",
            "[CV]  criterion=gini, max_depth=7, n_estimators=100, score=0.850, total=   0.4s\n",
            "[CV] criterion=gini, max_depth=7, n_estimators=100 ...................\n",
            "[CV]  criterion=gini, max_depth=7, n_estimators=100, score=0.838, total=   0.4s\n",
            "[CV] criterion=gini, max_depth=7, n_estimators=200 ...................\n",
            "[CV]  criterion=gini, max_depth=7, n_estimators=200, score=0.855, total=   0.7s\n",
            "[CV] criterion=gini, max_depth=7, n_estimators=200 ...................\n",
            "[CV]  criterion=gini, max_depth=7, n_estimators=200, score=0.865, total=   0.7s\n",
            "[CV] criterion=gini, max_depth=7, n_estimators=200 ...................\n",
            "[CV]  criterion=gini, max_depth=7, n_estimators=200, score=0.877, total=   0.7s\n",
            "[CV] criterion=gini, max_depth=7, n_estimators=200 ...................\n",
            "[CV]  criterion=gini, max_depth=7, n_estimators=200, score=0.863, total=   0.7s\n",
            "[CV] criterion=gini, max_depth=7, n_estimators=200 ...................\n",
            "[CV]  criterion=gini, max_depth=7, n_estimators=200, score=0.830, total=   0.7s\n",
            "[CV] criterion=gini, max_depth=7, n_estimators=300 ...................\n",
            "[CV]  criterion=gini, max_depth=7, n_estimators=300, score=0.850, total=   1.0s\n",
            "[CV] criterion=gini, max_depth=7, n_estimators=300 ...................\n",
            "[CV]  criterion=gini, max_depth=7, n_estimators=300, score=0.863, total=   1.1s\n",
            "[CV] criterion=gini, max_depth=7, n_estimators=300 ...................\n",
            "[CV]  criterion=gini, max_depth=7, n_estimators=300, score=0.882, total=   1.0s\n",
            "[CV] criterion=gini, max_depth=7, n_estimators=300 ...................\n",
            "[CV]  criterion=gini, max_depth=7, n_estimators=300, score=0.858, total=   1.0s\n",
            "[CV] criterion=gini, max_depth=7, n_estimators=300 ...................\n",
            "[CV]  criterion=gini, max_depth=7, n_estimators=300, score=0.850, total=   1.1s\n",
            "[CV] criterion=gini, max_depth=7, n_estimators=400 ...................\n",
            "[CV]  criterion=gini, max_depth=7, n_estimators=400, score=0.860, total=   1.3s\n",
            "[CV] criterion=gini, max_depth=7, n_estimators=400 ...................\n",
            "[CV]  criterion=gini, max_depth=7, n_estimators=400, score=0.868, total=   1.3s\n",
            "[CV] criterion=gini, max_depth=7, n_estimators=400 ...................\n",
            "[CV]  criterion=gini, max_depth=7, n_estimators=400, score=0.885, total=   1.4s\n",
            "[CV] criterion=gini, max_depth=7, n_estimators=400 ...................\n",
            "[CV]  criterion=gini, max_depth=7, n_estimators=400, score=0.863, total=   1.3s\n",
            "[CV] criterion=gini, max_depth=7, n_estimators=400 ...................\n",
            "[CV]  criterion=gini, max_depth=7, n_estimators=400, score=0.835, total=   1.4s\n",
            "[CV] criterion=entropy, max_depth=1, n_estimators=100 ................\n",
            "[CV]  criterion=entropy, max_depth=1, n_estimators=100, score=0.540, total=   0.3s\n",
            "[CV] criterion=entropy, max_depth=1, n_estimators=100 ................\n",
            "[CV]  criterion=entropy, max_depth=1, n_estimators=100, score=0.555, total=   0.3s\n",
            "[CV] criterion=entropy, max_depth=1, n_estimators=100 ................\n",
            "[CV]  criterion=entropy, max_depth=1, n_estimators=100, score=0.550, total=   0.3s\n",
            "[CV] criterion=entropy, max_depth=1, n_estimators=100 ................\n",
            "[CV]  criterion=entropy, max_depth=1, n_estimators=100, score=0.565, total=   0.3s\n",
            "[CV] criterion=entropy, max_depth=1, n_estimators=100 ................\n",
            "[CV]  criterion=entropy, max_depth=1, n_estimators=100, score=0.552, total=   0.4s\n",
            "[CV] criterion=entropy, max_depth=1, n_estimators=200 ................\n",
            "[CV]  criterion=entropy, max_depth=1, n_estimators=200, score=0.550, total=   0.5s\n",
            "[CV] criterion=entropy, max_depth=1, n_estimators=200 ................\n",
            "[CV]  criterion=entropy, max_depth=1, n_estimators=200, score=0.537, total=   0.5s\n",
            "[CV] criterion=entropy, max_depth=1, n_estimators=200 ................\n",
            "[CV]  criterion=entropy, max_depth=1, n_estimators=200, score=0.555, total=   0.5s\n",
            "[CV] criterion=entropy, max_depth=1, n_estimators=200 ................\n",
            "[CV]  criterion=entropy, max_depth=1, n_estimators=200, score=0.573, total=   0.5s\n",
            "[CV] criterion=entropy, max_depth=1, n_estimators=200 ................\n",
            "[CV]  criterion=entropy, max_depth=1, n_estimators=200, score=0.542, total=   0.5s\n",
            "[CV] criterion=entropy, max_depth=1, n_estimators=300 ................\n",
            "[CV]  criterion=entropy, max_depth=1, n_estimators=300, score=0.585, total=   0.8s\n",
            "[CV] criterion=entropy, max_depth=1, n_estimators=300 ................\n",
            "[CV]  criterion=entropy, max_depth=1, n_estimators=300, score=0.550, total=   0.9s\n",
            "[CV] criterion=entropy, max_depth=1, n_estimators=300 ................\n",
            "[CV]  criterion=entropy, max_depth=1, n_estimators=300, score=0.552, total=   0.7s\n",
            "[CV] criterion=entropy, max_depth=1, n_estimators=300 ................\n",
            "[CV]  criterion=entropy, max_depth=1, n_estimators=300, score=0.550, total=   0.8s\n",
            "[CV] criterion=entropy, max_depth=1, n_estimators=300 ................\n",
            "[CV]  criterion=entropy, max_depth=1, n_estimators=300, score=0.540, total=   0.7s\n",
            "[CV] criterion=entropy, max_depth=1, n_estimators=400 ................\n",
            "[CV]  criterion=entropy, max_depth=1, n_estimators=400, score=0.552, total=   1.0s\n",
            "[CV] criterion=entropy, max_depth=1, n_estimators=400 ................\n",
            "[CV]  criterion=entropy, max_depth=1, n_estimators=400, score=0.565, total=   1.0s\n",
            "[CV] criterion=entropy, max_depth=1, n_estimators=400 ................\n",
            "[CV]  criterion=entropy, max_depth=1, n_estimators=400, score=0.540, total=   1.0s\n",
            "[CV] criterion=entropy, max_depth=1, n_estimators=400 ................\n",
            "[CV]  criterion=entropy, max_depth=1, n_estimators=400, score=0.568, total=   1.0s\n",
            "[CV] criterion=entropy, max_depth=1, n_estimators=400 ................\n",
            "[CV]  criterion=entropy, max_depth=1, n_estimators=400, score=0.550, total=   1.0s\n",
            "[CV] criterion=entropy, max_depth=3, n_estimators=100 ................\n",
            "[CV]  criterion=entropy, max_depth=3, n_estimators=100, score=0.723, total=   0.4s\n",
            "[CV] criterion=entropy, max_depth=3, n_estimators=100 ................\n",
            "[CV]  criterion=entropy, max_depth=3, n_estimators=100, score=0.770, total=   0.4s\n",
            "[CV] criterion=entropy, max_depth=3, n_estimators=100 ................\n",
            "[CV]  criterion=entropy, max_depth=3, n_estimators=100, score=0.787, total=   0.4s\n",
            "[CV] criterion=entropy, max_depth=3, n_estimators=100 ................\n",
            "[CV]  criterion=entropy, max_depth=3, n_estimators=100, score=0.762, total=   0.4s\n",
            "[CV] criterion=entropy, max_depth=3, n_estimators=100 ................\n",
            "[CV]  criterion=entropy, max_depth=3, n_estimators=100, score=0.760, total=   0.4s\n",
            "[CV] criterion=entropy, max_depth=3, n_estimators=200 ................\n",
            "[CV]  criterion=entropy, max_depth=3, n_estimators=200, score=0.770, total=   0.7s\n",
            "[CV] criterion=entropy, max_depth=3, n_estimators=200 ................\n",
            "[CV]  criterion=entropy, max_depth=3, n_estimators=200, score=0.777, total=   0.7s\n",
            "[CV] criterion=entropy, max_depth=3, n_estimators=200 ................\n",
            "[CV]  criterion=entropy, max_depth=3, n_estimators=200, score=0.795, total=   0.6s\n",
            "[CV] criterion=entropy, max_depth=3, n_estimators=200 ................\n",
            "[CV]  criterion=entropy, max_depth=3, n_estimators=200, score=0.787, total=   0.7s\n",
            "[CV] criterion=entropy, max_depth=3, n_estimators=200 ................\n",
            "[CV]  criterion=entropy, max_depth=3, n_estimators=200, score=0.787, total=   0.6s\n",
            "[CV] criterion=entropy, max_depth=3, n_estimators=300 ................\n",
            "[CV]  criterion=entropy, max_depth=3, n_estimators=300, score=0.785, total=   1.0s\n",
            "[CV] criterion=entropy, max_depth=3, n_estimators=300 ................\n",
            "[CV]  criterion=entropy, max_depth=3, n_estimators=300, score=0.748, total=   0.9s\n",
            "[CV] criterion=entropy, max_depth=3, n_estimators=300 ................\n",
            "[CV]  criterion=entropy, max_depth=3, n_estimators=300, score=0.775, total=   0.9s\n",
            "[CV] criterion=entropy, max_depth=3, n_estimators=300 ................\n",
            "[CV]  criterion=entropy, max_depth=3, n_estimators=300, score=0.802, total=   0.9s\n",
            "[CV] criterion=entropy, max_depth=3, n_estimators=300 ................\n",
            "[CV]  criterion=entropy, max_depth=3, n_estimators=300, score=0.757, total=   0.9s\n",
            "[CV] criterion=entropy, max_depth=3, n_estimators=400 ................\n",
            "[CV]  criterion=entropy, max_depth=3, n_estimators=400, score=0.787, total=   1.2s\n",
            "[CV] criterion=entropy, max_depth=3, n_estimators=400 ................\n",
            "[CV]  criterion=entropy, max_depth=3, n_estimators=400, score=0.772, total=   1.2s\n",
            "[CV] criterion=entropy, max_depth=3, n_estimators=400 ................\n",
            "[CV]  criterion=entropy, max_depth=3, n_estimators=400, score=0.795, total=   1.2s\n",
            "[CV] criterion=entropy, max_depth=3, n_estimators=400 ................\n",
            "[CV]  criterion=entropy, max_depth=3, n_estimators=400, score=0.792, total=   1.3s\n",
            "[CV] criterion=entropy, max_depth=3, n_estimators=400 ................\n",
            "[CV]  criterion=entropy, max_depth=3, n_estimators=400, score=0.767, total=   1.2s\n",
            "[CV] criterion=entropy, max_depth=5, n_estimators=100 ................\n",
            "[CV]  criterion=entropy, max_depth=5, n_estimators=100, score=0.843, total=   0.5s\n",
            "[CV] criterion=entropy, max_depth=5, n_estimators=100 ................\n",
            "[CV]  criterion=entropy, max_depth=5, n_estimators=100, score=0.823, total=   0.5s\n",
            "[CV] criterion=entropy, max_depth=5, n_estimators=100 ................\n",
            "[CV]  criterion=entropy, max_depth=5, n_estimators=100, score=0.855, total=   0.5s\n",
            "[CV] criterion=entropy, max_depth=5, n_estimators=100 ................\n",
            "[CV]  criterion=entropy, max_depth=5, n_estimators=100, score=0.807, total=   0.5s\n",
            "[CV] criterion=entropy, max_depth=5, n_estimators=100 ................\n",
            "[CV]  criterion=entropy, max_depth=5, n_estimators=100, score=0.820, total=   0.5s\n",
            "[CV] criterion=entropy, max_depth=5, n_estimators=200 ................\n",
            "[CV]  criterion=entropy, max_depth=5, n_estimators=200, score=0.825, total=   0.8s\n",
            "[CV] criterion=entropy, max_depth=5, n_estimators=200 ................\n",
            "[CV]  criterion=entropy, max_depth=5, n_estimators=200, score=0.835, total=   0.8s\n",
            "[CV] criterion=entropy, max_depth=5, n_estimators=200 ................\n",
            "[CV]  criterion=entropy, max_depth=5, n_estimators=200, score=0.860, total=   0.8s\n",
            "[CV] criterion=entropy, max_depth=5, n_estimators=200 ................\n",
            "[CV]  criterion=entropy, max_depth=5, n_estimators=200, score=0.828, total=   0.8s\n",
            "[CV] criterion=entropy, max_depth=5, n_estimators=200 ................\n",
            "[CV]  criterion=entropy, max_depth=5, n_estimators=200, score=0.843, total=   0.8s\n",
            "[CV] criterion=entropy, max_depth=5, n_estimators=300 ................\n",
            "[CV]  criterion=entropy, max_depth=5, n_estimators=300, score=0.843, total=   1.1s\n",
            "[CV] criterion=entropy, max_depth=5, n_estimators=300 ................\n",
            "[CV]  criterion=entropy, max_depth=5, n_estimators=300, score=0.825, total=   1.2s\n",
            "[CV] criterion=entropy, max_depth=5, n_estimators=300 ................\n",
            "[CV]  criterion=entropy, max_depth=5, n_estimators=300, score=0.860, total=   1.2s\n",
            "[CV] criterion=entropy, max_depth=5, n_estimators=300 ................\n",
            "[CV]  criterion=entropy, max_depth=5, n_estimators=300, score=0.825, total=   1.1s\n",
            "[CV] criterion=entropy, max_depth=5, n_estimators=300 ................\n",
            "[CV]  criterion=entropy, max_depth=5, n_estimators=300, score=0.848, total=   1.1s\n",
            "[CV] criterion=entropy, max_depth=5, n_estimators=400 ................\n",
            "[CV]  criterion=entropy, max_depth=5, n_estimators=400, score=0.835, total=   1.5s\n",
            "[CV] criterion=entropy, max_depth=5, n_estimators=400 ................\n",
            "[CV]  criterion=entropy, max_depth=5, n_estimators=400, score=0.848, total=   1.5s\n",
            "[CV] criterion=entropy, max_depth=5, n_estimators=400 ................\n",
            "[CV]  criterion=entropy, max_depth=5, n_estimators=400, score=0.848, total=   1.5s\n",
            "[CV] criterion=entropy, max_depth=5, n_estimators=400 ................\n",
            "[CV]  criterion=entropy, max_depth=5, n_estimators=400, score=0.840, total=   1.5s\n",
            "[CV] criterion=entropy, max_depth=5, n_estimators=400 ................\n",
            "[CV]  criterion=entropy, max_depth=5, n_estimators=400, score=0.838, total=   1.5s\n",
            "[CV] criterion=entropy, max_depth=7, n_estimators=100 ................\n",
            "[CV]  criterion=entropy, max_depth=7, n_estimators=100, score=0.863, total=   0.5s\n",
            "[CV] criterion=entropy, max_depth=7, n_estimators=100 ................\n",
            "[CV]  criterion=entropy, max_depth=7, n_estimators=100, score=0.865, total=   0.5s\n",
            "[CV] criterion=entropy, max_depth=7, n_estimators=100 ................\n",
            "[CV]  criterion=entropy, max_depth=7, n_estimators=100, score=0.890, total=   0.5s\n",
            "[CV] criterion=entropy, max_depth=7, n_estimators=100 ................\n",
            "[CV]  criterion=entropy, max_depth=7, n_estimators=100, score=0.850, total=   0.5s\n",
            "[CV] criterion=entropy, max_depth=7, n_estimators=100 ................\n",
            "[CV]  criterion=entropy, max_depth=7, n_estimators=100, score=0.855, total=   0.5s\n",
            "[CV] criterion=entropy, max_depth=7, n_estimators=200 ................\n",
            "[CV]  criterion=entropy, max_depth=7, n_estimators=200, score=0.863, total=   0.9s\n",
            "[CV] criterion=entropy, max_depth=7, n_estimators=200 ................\n",
            "[CV]  criterion=entropy, max_depth=7, n_estimators=200, score=0.858, total=   0.9s\n",
            "[CV] criterion=entropy, max_depth=7, n_estimators=200 ................\n",
            "[CV]  criterion=entropy, max_depth=7, n_estimators=200, score=0.900, total=   0.9s\n",
            "[CV] criterion=entropy, max_depth=7, n_estimators=200 ................\n",
            "[CV]  criterion=entropy, max_depth=7, n_estimators=200, score=0.855, total=   0.9s\n",
            "[CV] criterion=entropy, max_depth=7, n_estimators=200 ................\n",
            "[CV]  criterion=entropy, max_depth=7, n_estimators=200, score=0.843, total=   0.9s\n",
            "[CV] criterion=entropy, max_depth=7, n_estimators=300 ................\n",
            "[CV]  criterion=entropy, max_depth=7, n_estimators=300, score=0.875, total=   1.4s\n",
            "[CV] criterion=entropy, max_depth=7, n_estimators=300 ................\n",
            "[CV]  criterion=entropy, max_depth=7, n_estimators=300, score=0.870, total=   1.4s\n",
            "[CV] criterion=entropy, max_depth=7, n_estimators=300 ................\n",
            "[CV]  criterion=entropy, max_depth=7, n_estimators=300, score=0.880, total=   1.5s\n",
            "[CV] criterion=entropy, max_depth=7, n_estimators=300 ................\n",
            "[CV]  criterion=entropy, max_depth=7, n_estimators=300, score=0.863, total=   1.4s\n",
            "[CV] criterion=entropy, max_depth=7, n_estimators=300 ................\n",
            "[CV]  criterion=entropy, max_depth=7, n_estimators=300, score=0.840, total=   1.5s\n",
            "[CV] criterion=entropy, max_depth=7, n_estimators=400 ................\n",
            "[CV]  criterion=entropy, max_depth=7, n_estimators=400, score=0.858, total=   1.8s\n",
            "[CV] criterion=entropy, max_depth=7, n_estimators=400 ................\n",
            "[CV]  criterion=entropy, max_depth=7, n_estimators=400, score=0.868, total=   1.8s\n",
            "[CV] criterion=entropy, max_depth=7, n_estimators=400 ................\n",
            "[CV]  criterion=entropy, max_depth=7, n_estimators=400, score=0.900, total=   1.8s\n",
            "[CV] criterion=entropy, max_depth=7, n_estimators=400 ................\n",
            "[CV]  criterion=entropy, max_depth=7, n_estimators=400, score=0.853, total=   1.8s\n",
            "[CV] criterion=entropy, max_depth=7, n_estimators=400 ................\n",
            "[CV]  criterion=entropy, max_depth=7, n_estimators=400, score=0.850, total=   1.8s\n"
          ],
          "name": "stdout"
        },
        {
          "output_type": "stream",
          "text": [
            "[Parallel(n_jobs=1)]: Done 160 out of 160 | elapsed:  2.2min finished\n"
          ],
          "name": "stderr"
        },
        {
          "output_type": "execute_result",
          "data": {
            "text/plain": [
              "GridSearchCV(cv=5, error_score=nan,\n",
              "             estimator=RandomForestClassifier(bootstrap=True, ccp_alpha=0.0,\n",
              "                                              class_weight=None,\n",
              "                                              criterion='gini', max_depth=None,\n",
              "                                              max_features='auto',\n",
              "                                              max_leaf_nodes=None,\n",
              "                                              max_samples=None,\n",
              "                                              min_impurity_decrease=0.0,\n",
              "                                              min_impurity_split=None,\n",
              "                                              min_samples_leaf=1,\n",
              "                                              min_samples_split=2,\n",
              "                                              min_weight_fraction_leaf=0.0,\n",
              "                                              n_estimators=100, n_jobs=-1,\n",
              "                                              oob_score=False,\n",
              "                                              random_state=None, verbose=0,\n",
              "                                              warm_start=False),\n",
              "             iid='deprecated', n_jobs=None,\n",
              "             param_grid={'criterion': ['gini', 'entropy'],\n",
              "                         'max_depth': [1, 3, 5, 7],\n",
              "                         'n_estimators': [100, 200, 300, 400]},\n",
              "             pre_dispatch='2*n_jobs', refit=True, return_train_score=False,\n",
              "             scoring='accuracy', verbose=10)"
            ]
          },
          "metadata": {
            "tags": []
          },
          "execution_count": 7
        }
      ]
    },
    {
      "cell_type": "code",
      "metadata": {
        "id": "M2v9knyswpuw",
        "colab_type": "code",
        "colab": {
          "base_uri": "https://localhost:8080/",
          "height": 72
        },
        "outputId": "c814447e-0877-41d1-d4b0-7d9befd275ce"
      },
      "source": [
        "print(model.best_score_)\n",
        "print(model.best_estimator_.get_params())"
      ],
      "execution_count": 8,
      "outputs": [
        {
          "output_type": "stream",
          "text": [
            "0.8654999999999999\n",
            "{'bootstrap': True, 'ccp_alpha': 0.0, 'class_weight': None, 'criterion': 'entropy', 'max_depth': 7, 'max_features': 'auto', 'max_leaf_nodes': None, 'max_samples': None, 'min_impurity_decrease': 0.0, 'min_impurity_split': None, 'min_samples_leaf': 1, 'min_samples_split': 2, 'min_weight_fraction_leaf': 0.0, 'n_estimators': 300, 'n_jobs': -1, 'oob_score': False, 'random_state': None, 'verbose': 0, 'warm_start': False}\n"
          ],
          "name": "stdout"
        }
      ]
    },
    {
      "cell_type": "markdown",
      "metadata": {
        "id": "G9NnQFlLyM4s",
        "colab_type": "text"
      },
      "source": [
        "# **Random Search**\n"
      ]
    },
    {
      "cell_type": "markdown",
      "metadata": {
        "id": "uVN6L-G9yj2G",
        "colab_type": "text"
      },
      "source": [
        "# **Bayesian Optimization**"
      ]
    },
    {
      "cell_type": "markdown",
      "metadata": {
        "id": "5DdQ0ciKypvk",
        "colab_type": "text"
      },
      "source": [
        "# **Hyperopt**"
      ]
    },
    {
      "cell_type": "markdown",
      "metadata": {
        "id": "YJCzm8HsywPO",
        "colab_type": "text"
      },
      "source": [
        "# **Optuna**"
      ]
    }
  ]
}